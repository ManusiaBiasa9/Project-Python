{
 "cells": [
  {
   "attachments": {},
   "cell_type": "markdown",
   "metadata": {},
   "source": [
    "# Test Case Super Cashier - Python Project - Rizki Septiawan Wijaya"
   ]
  },
  {
   "attachments": {},
   "cell_type": "markdown",
   "metadata": {},
   "source": [
    "## Import Modul"
   ]
  },
  {
   "cell_type": "code",
   "execution_count": 1,
   "metadata": {},
   "outputs": [],
   "source": [
    "import cashier as csh"
   ]
  },
  {
   "attachments": {},
   "cell_type": "markdown",
   "metadata": {},
   "source": [
    "## Membuat Object pada Class Transaction"
   ]
  },
  {
   "cell_type": "code",
   "execution_count": 2,
   "metadata": {},
   "outputs": [],
   "source": [
    "trnsct_123 = csh.Transaction()"
   ]
  },
  {
   "attachments": {},
   "cell_type": "markdown",
   "metadata": {},
   "source": [
    "## Tampilan Awal Daftar Pesanan"
   ]
  },
  {
   "cell_type": "code",
   "execution_count": 3,
   "metadata": {},
   "outputs": [
    {
     "name": "stdout",
     "output_type": "stream",
     "text": [
      "╒════╤═══════════╤═════════════╤════════════╤═════════════╕\n",
      "│ No │ Nama Item │ Jumlah Item │ Harga/Item │ Total Harga │\n",
      "╘════╧═══════════╧═════════════╧════════════╧═════════════╛\n"
     ]
    }
   ],
   "source": [
    "trnsct_123.show_order()"
   ]
  },
  {
   "attachments": {},
   "cell_type": "markdown",
   "metadata": {},
   "source": [
    "## Test 1: Menambahkan Item Pesanan"
   ]
  },
  {
   "attachments": {},
   "cell_type": "markdown",
   "metadata": {},
   "source": [
    "Customer ingin menambahkan dua item baru dalam daftar pesanan. Item yang ingin ditambahkan adalah sebagai berikut:\n",
    "\n",
    "* Nama Item: Ayam Goreng, Qty: 2, Harga: 20000\n",
    "* Nama Item: Pasta Gigi, Qty: 3, Harga: 15000"
   ]
  },
  {
   "attachments": {},
   "cell_type": "markdown",
   "metadata": {},
   "source": [
    "**Method yang digunakan adalah add_item()**"
   ]
  },
  {
   "cell_type": "code",
   "execution_count": 4,
   "metadata": {},
   "outputs": [
    {
     "name": "stdout",
     "output_type": "stream",
     "text": [
      "╒════╤═════════════╤═════════════╤════════════╤═════════════╕\n",
      "│ No │ Nama Item   │ Jumlah Item │ Harga/Item │ Total Harga │\n",
      "├────┼─────────────┼─────────────┼────────────┼─────────────┤\n",
      "│ 1  │ Ayam Goreng │ 2           │ 20000      │ 40000       │\n",
      "├────┼─────────────┼─────────────┼────────────┼─────────────┤\n",
      "│ 2  │ Pasta Gigi  │ 3           │ 15000      │ 45000       │\n",
      "╘════╧═════════════╧═════════════╧════════════╧═════════════╛\n"
     ]
    }
   ],
   "source": [
    "trnsct_123.add_item(\"Ayam Goreng\", 2, 20000)\n",
    "trnsct_123.add_item(\"Pasta Gigi\", 3, 15000)\n",
    "trnsct_123.show_order()"
   ]
  },
  {
   "attachments": {},
   "cell_type": "markdown",
   "metadata": {},
   "source": [
    "# Test 2: Menghapus Item Pesanan"
   ]
  },
  {
   "attachments": {},
   "cell_type": "markdown",
   "metadata": {},
   "source": [
    "Customer ingin menghapus item **Pasta Gigi**"
   ]
  },
  {
   "attachments": {},
   "cell_type": "markdown",
   "metadata": {},
   "source": [
    "**Method yang digunakan adalah delete_item()**"
   ]
  },
  {
   "cell_type": "code",
   "execution_count": 5,
   "metadata": {},
   "outputs": [
    {
     "name": "stdout",
     "output_type": "stream",
     "text": [
      "Anda berhasil menghapus pesanan Pasta Gigi\n",
      "\n",
      "╒════╤═════════════╤═════════════╤════════════╤═════════════╕\n",
      "│ No │ Nama Item   │ Jumlah Item │ Harga/Item │ Total Harga │\n",
      "├────┼─────────────┼─────────────┼────────────┼─────────────┤\n",
      "│ 1  │ Ayam Goreng │ 2           │ 20000      │ 40000       │\n",
      "╘════╧═════════════╧═════════════╧════════════╧═════════════╛\n"
     ]
    }
   ],
   "source": [
    "trnsct_123.delete_item(\"Pasta Gigi\")\n",
    "trnsct_123.show_order()"
   ]
  },
  {
   "attachments": {},
   "cell_type": "markdown",
   "metadata": {},
   "source": [
    "# Test 3: Menghapus Semua Item"
   ]
  },
  {
   "attachments": {},
   "cell_type": "markdown",
   "metadata": {},
   "source": [
    "Customer ingin menghapus **seluruh** item yang sudah ditambahkan."
   ]
  },
  {
   "attachments": {},
   "cell_type": "markdown",
   "metadata": {},
   "source": [
    "**Method yang digunakan adalah reset_transaction()**"
   ]
  },
  {
   "cell_type": "code",
   "execution_count": 6,
   "metadata": {},
   "outputs": [
    {
     "name": "stdout",
     "output_type": "stream",
     "text": [
      "Anda tidak memiliki daftar pesanan\n",
      "╒════╤═══════════╤═════════════╤════════════╤═════════════╕\n",
      "│ No │ Nama Item │ Jumlah Item │ Harga/Item │ Total Harga │\n",
      "╘════╧═══════════╧═════════════╧════════════╧═════════════╛\n"
     ]
    }
   ],
   "source": [
    "trnsct_123.reset_transaction()\n",
    "trnsct_123.show_order()"
   ]
  },
  {
   "attachments": {},
   "cell_type": "markdown",
   "metadata": {},
   "source": [
    "## Menambahkan Kembali Item dalam Daftar Pesanan"
   ]
  },
  {
   "attachments": {},
   "cell_type": "markdown",
   "metadata": {},
   "source": [
    "Item/barang yang ingin ditambahkan adalah sebagai berikut:\n",
    "* Nama Item: Ayam Goreng, Qty: 2, Harga: 20000\n",
    "* Nama Item: Pasta Gigi, Qty: 3, Harga: 15000\n",
    "* Nama Item: Mainan Mobil, Qty: 1, Harga: 200000\n",
    "* Nama Item: Mi Instan, Qty: 5, Harga: 3000"
   ]
  },
  {
   "attachments": {},
   "cell_type": "markdown",
   "metadata": {},
   "source": [
    "**Method yang digunakan adalah add_item()**"
   ]
  },
  {
   "cell_type": "code",
   "execution_count": 7,
   "metadata": {},
   "outputs": [
    {
     "name": "stdout",
     "output_type": "stream",
     "text": [
      "╒════╤══════════════╤═════════════╤════════════╤═════════════╕\n",
      "│ No │ Nama Item    │ Jumlah Item │ Harga/Item │ Total Harga │\n",
      "├────┼──────────────┼─────────────┼────────────┼─────────────┤\n",
      "│ 1  │ Ayam Bakar   │ 2           │ 20000      │ 40000       │\n",
      "├────┼──────────────┼─────────────┼────────────┼─────────────┤\n",
      "│ 2  │ Pasta Gigi   │ 3           │ 15000      │ 45000       │\n",
      "├────┼──────────────┼─────────────┼────────────┼─────────────┤\n",
      "│ 3  │ Mainan Mobil │ 2           │ 200000     │ 400000      │\n",
      "├────┼──────────────┼─────────────┼────────────┼─────────────┤\n",
      "│ 4  │ Mi Instan    │ 5           │ 4000       │ 20000       │\n",
      "╘════╧══════════════╧═════════════╧════════════╧═════════════╛\n"
     ]
    }
   ],
   "source": [
    "trnsct_123.add_item(\"Ayam Bakar\", 2, 20000)\n",
    "trnsct_123.add_item(\"Pasta Gigi\", 3, 15000)\n",
    "trnsct_123.add_item(\"Mainan Mobil\", 2, 200000)\n",
    "trnsct_123.add_item(\"Mi Instan\", 5, 4000)\n",
    "trnsct_123.show_order()"
   ]
  },
  {
   "attachments": {},
   "cell_type": "markdown",
   "metadata": {},
   "source": [
    "## Update Pesanan"
   ]
  },
  {
   "attachments": {},
   "cell_type": "markdown",
   "metadata": {},
   "source": [
    "Ada kesalahan dari customer dalam memasukkan barang. Customer dapat melakukan update item."
   ]
  },
  {
   "attachments": {},
   "cell_type": "markdown",
   "metadata": {},
   "source": [
    "Misal :\n",
    "* Customer salah memasukkan nama item \"Ayam Bakar\" yang seharusnya \"Ayam Goreng\"\n",
    "* Customer salah memasukkan jumlah item \"Mainan Mobil\" yang seharusnya 1\n",
    "* Customer salah memasukkan harga item \"Mi Instan\" yang seharusnya 3000"
   ]
  },
  {
   "attachments": {},
   "cell_type": "markdown",
   "metadata": {},
   "source": [
    "**Method yang digunakan adalah update_item_name(), update_item_qty(), update_item_price()**"
   ]
  },
  {
   "cell_type": "code",
   "execution_count": 8,
   "metadata": {},
   "outputs": [
    {
     "name": "stdout",
     "output_type": "stream",
     "text": [
      "╒════╤══════════════╤═════════════╤════════════╤═════════════╕\n",
      "│ No │ Nama Item    │ Jumlah Item │ Harga/Item │ Total Harga │\n",
      "├────┼──────────────┼─────────────┼────────────┼─────────────┤\n",
      "│ 1  │ Pasta Gigi   │ 3           │ 15000      │ 45000       │\n",
      "├────┼──────────────┼─────────────┼────────────┼─────────────┤\n",
      "│ 2  │ Mainan Mobil │ 1           │ 200000     │ 200000      │\n",
      "├────┼──────────────┼─────────────┼────────────┼─────────────┤\n",
      "│ 3  │ Mi Instan    │ 5           │ 3000       │ 15000       │\n",
      "├────┼──────────────┼─────────────┼────────────┼─────────────┤\n",
      "│ 4  │ Ayam Goreng  │ 2           │ 20000      │ 40000       │\n",
      "╘════╧══════════════╧═════════════╧════════════╧═════════════╛\n"
     ]
    }
   ],
   "source": [
    "trnsct_123.update_item_name(\"Ayam Bakar\", \"Ayam Goreng\")\n",
    "trnsct_123.update_item_qty(\"Mainan Mobil\", 1)\n",
    "trnsct_123.update_item_price(\"Mi Instan\", 3000)\n",
    "trnsct_123.show_order()"
   ]
  },
  {
   "attachments": {},
   "cell_type": "markdown",
   "metadata": {},
   "source": [
    "## Pengecekan Akhir"
   ]
  },
  {
   "attachments": {},
   "cell_type": "markdown",
   "metadata": {},
   "source": [
    "Customer dapat mengecek apakah format pemesanan sudah sesuai."
   ]
  },
  {
   "attachments": {},
   "cell_type": "markdown",
   "metadata": {},
   "source": [
    "**Method yang digunakan adalah check_order()**"
   ]
  },
  {
   "cell_type": "code",
   "execution_count": 9,
   "metadata": {},
   "outputs": [
    {
     "name": "stdout",
     "output_type": "stream",
     "text": [
      "Pemesanan sudah benar\n"
     ]
    }
   ],
   "source": [
    "trnsct_123.check_order()"
   ]
  },
  {
   "attachments": {},
   "cell_type": "markdown",
   "metadata": {},
   "source": [
    "## Test 4: Mengeluarkan Output Total Belanja "
   ]
  },
  {
   "attachments": {},
   "cell_type": "markdown",
   "metadata": {},
   "source": [
    "Customer mengecek total belanja saat sudah selesai berbelanja."
   ]
  },
  {
   "attachments": {},
   "cell_type": "markdown",
   "metadata": {},
   "source": [
    "**Method yang digunakan adalah total_price()**"
   ]
  },
  {
   "cell_type": "code",
   "execution_count": 10,
   "metadata": {},
   "outputs": [
    {
     "name": "stdout",
     "output_type": "stream",
     "text": [
      "╒════╤══════════════╤═════════════╤════════════╤═════════════╕\n",
      "│ No │ Nama Item    │ Jumlah Item │ Harga/Item │ Total Harga │\n",
      "├────┼──────────────┼─────────────┼────────────┼─────────────┤\n",
      "│ 1  │ Pasta Gigi   │ 3           │ 15000      │ 45000       │\n",
      "├────┼──────────────┼─────────────┼────────────┼─────────────┤\n",
      "│ 2  │ Mainan Mobil │ 1           │ 200000     │ 200000      │\n",
      "├────┼──────────────┼─────────────┼────────────┼─────────────┤\n",
      "│ 3  │ Mi Instan    │ 5           │ 3000       │ 15000       │\n",
      "├────┼──────────────┼─────────────┼────────────┼─────────────┤\n",
      "│ 4  │ Ayam Goreng  │ 2           │ 20000      │ 40000       │\n",
      "╘════╧══════════════╧═════════════╧════════════╧═════════════╛\n",
      "Selamat Anda mendapatkan diskon sebesar 5%, \n",
      " sehingga Anda hanya perlu membayar Rp.285000.00\n"
     ]
    }
   ],
   "source": [
    "trnsct_123.show_order()\n",
    "trnsct_123.total_price()"
   ]
  }
 ],
 "metadata": {
  "kernelspec": {
   "display_name": "Python 3",
   "language": "python",
   "name": "python3"
  },
  "language_info": {
   "codemirror_mode": {
    "name": "ipython",
    "version": 3
   },
   "file_extension": ".py",
   "mimetype": "text/x-python",
   "name": "python",
   "nbconvert_exporter": "python",
   "pygments_lexer": "ipython3",
   "version": "3.10.6"
  },
  "orig_nbformat": 4
 },
 "nbformat": 4,
 "nbformat_minor": 2
}
